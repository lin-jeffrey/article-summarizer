{
 "cells": [
  {
   "cell_type": "markdown",
   "metadata": {},
   "source": [
    "# Article Summarizer\n",
    "In hindsight of the recent 2020 election and the ongoing covid-19 pandemic, there is a constant stream of updating news articles that are hard to constantly keep up with. Especially with a busy schedule, staying well informed during these times is quite difficult and time consuming. \n",
    "\n",
    "My solution for this is to find the top 'n' important sentences in an article so that when put together it can provide the reader a synopsis of the article."
   ]
  },
  {
   "cell_type": "code",
   "execution_count": 1,
   "metadata": {},
   "outputs": [],
   "source": [
    "#importing libraries\n",
    "from nltk.tokenize import sent_tokenize\n",
    "from nltk.stem.porter import PorterStemmer\n",
    "from sklearn.feature_extraction.text import TfidfVectorizer\n",
    "from sklearn.metrics.pairwise import cosine_similarity\n",
    "\n",
    "import re \n",
    "import numpy as np\n",
    "import networkx as nx"
   ]
  },
  {
   "cell_type": "markdown",
   "metadata": {},
   "source": [
    "Articles I am going to use as test examples:\n",
    "\n",
    "https://www.theverge.com/2020/5/30/21269703/spacex-launch-crew-dragon-nasa-orbit-successful\n",
    "\n",
    "https://apnews.com/article/joe-biden-wins-white-house-ap-fd58df73aa677acb74fce2a69adb71f9\n",
    "\n",
    "https://apnews.com/article/pfizer-vaccine-effective-early-data-4f4ae2e3bad122d17742be22a2240ae8"
   ]
  },
  {
   "cell_type": "code",
   "execution_count": 2,
   "metadata": {},
   "outputs": [],
   "source": [
    "#opening article file\n",
    "f = open('spacex_article.txt', 'r')\n",
    "article1 = f.read()\n",
    "f.close()\n",
    "\n",
    "f = open('election_article.txt', 'r')\n",
    "article2 = f.read()\n",
    "f.close()\n",
    "\n",
    "f = open('pfizervacc_article.txt', 'r')\n",
    "article3 = f.read()\n",
    "f.close()"
   ]
  },
  {
   "cell_type": "code",
   "execution_count": 3,
   "metadata": {},
   "outputs": [],
   "source": [
    "#function to split sentences into words while stemming the words\n",
    "def stemming_tokenizer(str_input):\n",
    "    porter_stemmer = PorterStemmer()\n",
    "    words = re.sub(r\"[^A-Za-z]\", \" \", str_input).lower().split()\n",
    "    words = [porter_stemmer.stem(word) for word in words]\n",
    "    return words"
   ]
  },
  {
   "cell_type": "code",
   "execution_count": 4,
   "metadata": {},
   "outputs": [],
   "source": [
    "#function to create tfidf vectors for each sentence in the article\n",
    "def vectorize_sentences(sentences):\n",
    "    \n",
    "    #define tfidf vectorizer\n",
    "    tfidf_vectorizer = TfidfVectorizer(stop_words='english', tokenizer=stemming_tokenizer, use_idf=True, norm='l1')\n",
    "    \n",
    "    #vectorize sentences\n",
    "    vect_sentences = []\n",
    "    x=0\n",
    "    for sentence in sentences:\n",
    "        sentence = [sentence] #tfidf vectorizer only accepts lists \n",
    "        #first we need to fit_transform\n",
    "        if(x == 0):\n",
    "            vect_sentences.append(tfidf_vectorizer.fit_transform(sentence))\n",
    "            x = x+1\n",
    "        #then after only transform\n",
    "        vect_sentences.append(tfidf_vectorizer.transform(sentence))\n",
    "    \n",
    "    return vect_sentences"
   ]
  },
  {
   "cell_type": "code",
   "execution_count": 5,
   "metadata": {},
   "outputs": [],
   "source": [
    "#function to build a matrix for the cosine similarity between all the sentences in the article\n",
    "def sentence_similarity_matrix(vect_sentences, num_sentences):\n",
    "    similarity_matrix = np.zeros((num_sentences, num_sentences))\n",
    "\n",
    "    for sentence1 in range(num_sentences):\n",
    "            for sentence2 in range(num_sentences):\n",
    "                #dont calculate if the sentence is the same\n",
    "                if sentence1 == sentence2: \n",
    "                    continue \n",
    "                similarity_matrix[sentence1][sentence2] = cosine_similarity(vect_sentences[sentence1], vect_sentences[sentence2])\n",
    "    \n",
    "    return similarity_matrix"
   ]
  },
  {
   "cell_type": "code",
   "execution_count": 6,
   "metadata": {},
   "outputs": [],
   "source": [
    "#function to use networkx's pagerank() to rank sentences that are most similar to the rest of the article\n",
    "def rank_sentences(similarity_matrix, sentences):\n",
    "    sentence_similarity_graph = nx.from_numpy_array(similarity_matrix)\n",
    "\n",
    "    similarity_scores = nx.pagerank(sentence_similarity_graph)\n",
    "    ranked_sentences = sorted(((similarity_scores[i],s) for i,s in enumerate(sentences)), reverse=True) \n",
    "    return ranked_sentences"
   ]
  },
  {
   "cell_type": "code",
   "execution_count": 7,
   "metadata": {},
   "outputs": [],
   "source": [
    "#combine the top 10% ranked sentences to form the summary \n",
    "def create_summary(ranked_sentences, num_sentences):\n",
    "    summary_sentences = []\n",
    "    summary_sentence_count = round(num_sentences*.15)\n",
    "\n",
    "    for i in range(summary_sentence_count):\n",
    "        summary_sentences.append(\"\".join(ranked_sentences[i][1]))\n",
    "    print(\"Article Summary (\", num_sentences, \"->\", summary_sentence_count, \"sentences): \\n\"  ,\" \".join(summary_sentences))"
   ]
  },
  {
   "cell_type": "code",
   "execution_count": 8,
   "metadata": {},
   "outputs": [],
   "source": [
    "def article_summarizer(article):\n",
    "    #splitting article into sentences and counting how many sentences there are\n",
    "    sentences = sent_tokenize(article)\n",
    "    sentence_count = len(sentences)\n",
    "    \n",
    "    #creating tfidf vectors from the sentences\n",
    "    vect_sentences = vectorize_sentences(sentences)\n",
    "    \n",
    "    #building a similarity matrix using cosine similarity\n",
    "    similarity_matrix = sentence_similarity_matrix(vect_sentences, sentence_count)\n",
    "    \n",
    "    #ranking the sentences by similarity using pagerank\n",
    "    ranked_sentences = rank_sentences(similarity_matrix, sentences)\n",
    "    \n",
    "    #compiling the top sentences and printing the summary\n",
    "    create_summary(ranked_sentences, sentence_count)"
   ]
  },
  {
   "cell_type": "code",
   "execution_count": 9,
   "metadata": {},
   "outputs": [
    {
     "name": "stderr",
     "output_type": "stream",
     "text": [
      "/Library/Frameworks/Python.framework/Versions/3.8/lib/python3.8/site-packages/sklearn/feature_extraction/text.py:383: UserWarning: Your stop_words may be inconsistent with your preprocessing. Tokenizing the stop words generated tokens ['abov', 'afterward', 'alon', 'alreadi', 'alway', 'ani', 'anoth', 'anyon', 'anyth', 'anywher', 'becam', 'becaus', 'becom', 'befor', 'besid', 'cri', 'describ', 'dure', 'els', 'elsewher', 'empti', 'everi', 'everyon', 'everyth', 'everywher', 'fifti', 'formerli', 'forti', 'ha', 'henc', 'hereaft', 'herebi', 'hi', 'howev', 'hundr', 'inde', 'latterli', 'mani', 'meanwhil', 'moreov', 'mostli', 'nobodi', 'noon', 'noth', 'nowher', 'onc', 'onli', 'otherwis', 'ourselv', 'perhap', 'pleas', 'seriou', 'sever', 'sinc', 'sincer', 'sixti', 'someon', 'someth', 'sometim', 'somewher', 'themselv', 'thenc', 'thereaft', 'therebi', 'therefor', 'thi', 'thu', 'togeth', 'twelv', 'twenti', 'veri', 'wa', 'whatev', 'whenc', 'whenev', 'wherea', 'whereaft', 'wherebi', 'wherev', 'whi', 'yourselv'] not in stop_words.\n",
      "  warnings.warn('Your stop_words may be inconsistent with '\n"
     ]
    },
    {
     "name": "stdout",
     "output_type": "stream",
     "text": [
      "Article Summary ( 47 -> 7 sentences): \n",
      " This launch is a critical moment for SpaceX, a company formed by Musk with the express purpose of sending humans into space and building settlements on Mars. Through that initiative, NASA enlisted two companies, SpaceX and Boeing, to develop new spacecraft that could regularly ferry the agency’s astronauts to and from the space station. Though this mission is considered a test, it still carried enormous weight for the United States. The rocket dropped the Crew Dragon off in orbit about 12 minutes later. That means we could be soon entering a new era where private companies are the ones routinely taking people to low Earth orbit. “They’re laying the foundation for a new era in human spaceflight,” NASA administrator Jim Bridenstine said before launch. The company is currently working on a new monster rocket called Starship, which may one day take humans to deep space destinations like the Moon and Mars.\n"
     ]
    }
   ],
   "source": [
    "article_summarizer(article1)"
   ]
  },
  {
   "cell_type": "code",
   "execution_count": 10,
   "metadata": {},
   "outputs": [
    {
     "name": "stdout",
     "output_type": "stream",
     "text": [
      "Article Summary ( 71 -> 11 sentences): \n",
      " The strategy, as well as an appeal to Americans fatigued by Trump’s disruptions and wanting a return to a more traditional presidency, proved effective and resulted in pivotal victories in Michigan and Wisconsin as well as Pennsylvania, onetime Democratic bastions that had flipped to Trump in 2016. The third president to be impeached, though acquitted in the Senate, Trump will leave office having left an indelible imprint in a tenure defined by the shattering of White House norms and a day-to-day whirlwind of turnover, partisan divide and Twitter blasts. It was a precarious balance for Trump’s allies as they try to be supportive of the president -- and avoid risking further fallout -- but face the reality of the vote count. Trump is the first incumbent president to lose reelection since Republican George H.W. There was another COVID-19 outbreak in the White House this week, which sickened his chief of staff Mark Meadows. The president defied calls for caution and ultimately contracted the disease himself. Their deaths sparked the largest racial protest movement since the civil rights era. But later that year, he was tapped to be Barack Obama’s running mate and he became an influential vice president, steering the administration’s outreach to both Capitol Hill and Iraq. “We are not enemies. On Saturday, Senate Majority Leader Mitch McConnell had not yet made any public statements -- either congratulating Biden or joining Trump’s complaints. His victory came after more than three days of uncertainty as election officials sorted through a surge of mail-in votes that delayed processing.\n"
     ]
    }
   ],
   "source": [
    "article_summarizer(article2)"
   ]
  },
  {
   "cell_type": "code",
   "execution_count": 11,
   "metadata": {},
   "outputs": [
    {
     "name": "stdout",
     "output_type": "stream",
     "text": [
      "Article Summary ( 41 -> 6 sentences): \n",
      " Pfizer said its only involvement in Operation Warp Speed is that those doses are part of the administration’s goal to have 300 million doses of COVID-19 vaccines ready sometime next year. Pfizer instead said it has invested $2 billion of its own money in testing and expanding manufacturing capacity. Even if all goes well, authorities have stressed it is unlikely any vaccine will arrive much before the end of the year, and the limited initial supplies will be rationed. Global markets, already buoyed by the victory of President-elect Joe Biden, rallied on the news from Pfizer. The study is continuing, and Pfizer cautioned that the protection rate might change as more COVID-19 cases are added to the calculations. The strong results were a surprise.\n"
     ]
    }
   ],
   "source": [
    "article_summarizer(article3)"
   ]
  }
 ],
 "metadata": {
  "kernelspec": {
   "display_name": "Python 3",
   "language": "python",
   "name": "python3"
  },
  "language_info": {
   "codemirror_mode": {
    "name": "ipython",
    "version": 3
   },
   "file_extension": ".py",
   "mimetype": "text/x-python",
   "name": "python",
   "nbconvert_exporter": "python",
   "pygments_lexer": "ipython3",
   "version": "3.8.2"
  }
 },
 "nbformat": 4,
 "nbformat_minor": 4
}
